{
  "nbformat": 4,
  "nbformat_minor": 0,
  "metadata": {
    "colab": {
      "provenance": [],
      "authorship_tag": "ABX9TyP5k3NAVMogLhHmSjwgBHzk",
      "include_colab_link": true
    },
    "kernelspec": {
      "name": "python3",
      "display_name": "Python 3"
    },
    "language_info": {
      "name": "python"
    }
  },
  "cells": [
    {
      "cell_type": "markdown",
      "metadata": {
        "id": "view-in-github",
        "colab_type": "text"
      },
      "source": [
        "<a href=\"https://colab.research.google.com/github/RaveeshSharma/Text-Summarizer/blob/main/TextSummarizer.ipynb\" target=\"_parent\"><img src=\"https://colab.research.google.com/assets/colab-badge.svg\" alt=\"Open In Colab\"/></a>"
      ]
    },
    {
      "cell_type": "code",
      "execution_count": 41,
      "metadata": {
        "id": "yRHvyqrHWyD3"
      },
      "outputs": [],
      "source": [
        "text = \"\"\"\n",
        "There are broadly two types of extractive summarization tasks depending on what the summarization program focuses on. The first is generic summarization, which focuses on obtaining a generic summary or abstract of the collection (whether documents, or sets of images, or videos, news stories etc.). The second is query relevant summarization, sometimes called query-based summarization, which summarizes objects specific to a query. Summarization systems are able to create both query relevant text summaries and generic machine-generated summaries depending on what the user needs.\n",
        "An example of a summarization problem is document summarization, which attempts to automatically produce an abstract from a given document. Sometimes one might be interested in generating a summary from a single source document, while others can use multiple source documents (for example, a cluster of articles on the same topic). This problem is called multi-document summarization. A related application is summarizing news articles. Imagine a system, which automatically pulls together news articles on a given topic (from the web), and concisely represents the latest news as a summary.\n",
        "Image collection summarization is another application example of automatic summarization. It consists in selecting a representative set of images from a larger set of images.[3] A summary in this context is useful to show the most representative images of results in an image collection exploration system. Video summarization is a related domain, where the system automatically creates a trailer of a long video. This also has applications in consumer or personal videos, where one might want to skip the boring or repetitive actions. Similarly, in surveillance videos, one would want to extract important and suspicious activity, while ignoring all the boring and redundant frames captured.\n",
        "\"\"\""
      ]
    },
    {
      "cell_type": "code",
      "source": [
        "import spacy\n",
        "from spacy.lang.en.stop_words import STOP_WORDS\n",
        "from string import punctuation"
      ],
      "metadata": {
        "id": "MWFcDcDhW8El"
      },
      "execution_count": 42,
      "outputs": []
    },
    {
      "cell_type": "code",
      "source": [
        "stopwords = list(STOP_WORDS)\n",
        "stopwords"
      ],
      "metadata": {
        "colab": {
          "base_uri": "https://localhost:8080/"
        },
        "id": "eTaL77KmXH1d",
        "outputId": "ba958f5d-88c3-454b-897a-bca939a2be51"
      },
      "execution_count": 43,
      "outputs": [
        {
          "output_type": "execute_result",
          "data": {
            "text/plain": [
              "['been',\n",
              " 'along',\n",
              " 'many',\n",
              " 'her',\n",
              " 'side',\n",
              " 'nothing',\n",
              " 'upon',\n",
              " 'may',\n",
              " 'anyhow',\n",
              " 'quite',\n",
              " 'just',\n",
              " 'least',\n",
              " '‘m',\n",
              " 'even',\n",
              " 'be',\n",
              " 'myself',\n",
              " 'of',\n",
              " 'himself',\n",
              " 'everything',\n",
              " 'not',\n",
              " 'twenty',\n",
              " 'cannot',\n",
              " 'hence',\n",
              " 'beside',\n",
              " 'few',\n",
              " 'his',\n",
              " 'than',\n",
              " 'alone',\n",
              " 'beyond',\n",
              " 'should',\n",
              " 'up',\n",
              " 'here',\n",
              " 'with',\n",
              " 'whenever',\n",
              " 'more',\n",
              " \"'ll\",\n",
              " 'done',\n",
              " 'other',\n",
              " 'whose',\n",
              " 'those',\n",
              " 'n’t',\n",
              " 'and',\n",
              " 'yours',\n",
              " 'across',\n",
              " 'behind',\n",
              " 'a',\n",
              " 'now',\n",
              " 'thereby',\n",
              " 'among',\n",
              " 'whether',\n",
              " 'first',\n",
              " 'mine',\n",
              " 'once',\n",
              " 'hereupon',\n",
              " '‘d',\n",
              " 'eight',\n",
              " 'each',\n",
              " 'amount',\n",
              " 'where',\n",
              " 'say',\n",
              " 'without',\n",
              " 'in',\n",
              " 'around',\n",
              " 'made',\n",
              " 'become',\n",
              " 'rather',\n",
              " 'can',\n",
              " 'via',\n",
              " 'often',\n",
              " 'regarding',\n",
              " 'noone',\n",
              " 'namely',\n",
              " 'third',\n",
              " 'whence',\n",
              " 'within',\n",
              " '’ll',\n",
              " 'make',\n",
              " 'top',\n",
              " 'during',\n",
              " \"'s\",\n",
              " 'whoever',\n",
              " 'my',\n",
              " 'afterwards',\n",
              " 'most',\n",
              " 'yourself',\n",
              " 'almost',\n",
              " 'becoming',\n",
              " 'only',\n",
              " 'whereby',\n",
              " 'together',\n",
              " 'he',\n",
              " 'thus',\n",
              " 'whom',\n",
              " 'out',\n",
              " 'per',\n",
              " 'through',\n",
              " 'else',\n",
              " 'to',\n",
              " 'has',\n",
              " 'also',\n",
              " 'none',\n",
              " 'what',\n",
              " 'next',\n",
              " 'name',\n",
              " 'latter',\n",
              " 'n‘t',\n",
              " 'amongst',\n",
              " 'some',\n",
              " 'all',\n",
              " 'two',\n",
              " 'below',\n",
              " 'fifty',\n",
              " 'which',\n",
              " 'when',\n",
              " 'such',\n",
              " 'because',\n",
              " 'five',\n",
              " 'whereas',\n",
              " 'both',\n",
              " 'everywhere',\n",
              " '’d',\n",
              " 'nowhere',\n",
              " 'why',\n",
              " 'wherever',\n",
              " '‘ll',\n",
              " 'herein',\n",
              " 'thru',\n",
              " 'again',\n",
              " 'nor',\n",
              " 'forty',\n",
              " 'itself',\n",
              " 'onto',\n",
              " 'indeed',\n",
              " 'does',\n",
              " 'own',\n",
              " 'by',\n",
              " \"n't\",\n",
              " 'hundred',\n",
              " 'fifteen',\n",
              " 'take',\n",
              " 'keep',\n",
              " 'anywhere',\n",
              " 'there',\n",
              " 'part',\n",
              " 'its',\n",
              " 'over',\n",
              " 'front',\n",
              " 'mostly',\n",
              " 'this',\n",
              " 'yet',\n",
              " 'seemed',\n",
              " 'anyway',\n",
              " 'while',\n",
              " 'off',\n",
              " 'someone',\n",
              " 'unless',\n",
              " 'used',\n",
              " 'have',\n",
              " 'ours',\n",
              " 'see',\n",
              " 'themselves',\n",
              " 'therein',\n",
              " 'although',\n",
              " 'always',\n",
              " 'me',\n",
              " 'at',\n",
              " 'beforehand',\n",
              " 're',\n",
              " 'due',\n",
              " 'i',\n",
              " 'sometimes',\n",
              " \"'re\",\n",
              " \"'d\",\n",
              " 'elsewhere',\n",
              " 'no',\n",
              " \"'m\",\n",
              " 'ten',\n",
              " 'under',\n",
              " 'would',\n",
              " 'another',\n",
              " 'eleven',\n",
              " 'four',\n",
              " 'thereafter',\n",
              " 'thence',\n",
              " '’s',\n",
              " '‘re',\n",
              " 'above',\n",
              " 'formerly',\n",
              " 'somewhere',\n",
              " 'several',\n",
              " 'put',\n",
              " 'nevertheless',\n",
              " 'nobody',\n",
              " 'serious',\n",
              " 'already',\n",
              " 'please',\n",
              " 'after',\n",
              " 'could',\n",
              " 'are',\n",
              " 'us',\n",
              " 'something',\n",
              " '’ve',\n",
              " 'until',\n",
              " 'six',\n",
              " 'one',\n",
              " 'will',\n",
              " 'it',\n",
              " 'being',\n",
              " 'am',\n",
              " 'sixty',\n",
              " 'still',\n",
              " 'doing',\n",
              " 'give',\n",
              " 'our',\n",
              " 'get',\n",
              " 'ca',\n",
              " 'had',\n",
              " 'for',\n",
              " 'somehow',\n",
              " 'latterly',\n",
              " 'except',\n",
              " 'last',\n",
              " 'might',\n",
              " 'was',\n",
              " \"'ve\",\n",
              " 'former',\n",
              " 'move',\n",
              " '‘s',\n",
              " 'various',\n",
              " 'the',\n",
              " 'everyone',\n",
              " 'into',\n",
              " 'whatever',\n",
              " 'too',\n",
              " 'meanwhile',\n",
              " 'herself',\n",
              " 'anything',\n",
              " 'back',\n",
              " 'seeming',\n",
              " '’re',\n",
              " 'seems',\n",
              " 'much',\n",
              " 'show',\n",
              " 'were',\n",
              " 'do',\n",
              " 'since',\n",
              " 'well',\n",
              " 'as',\n",
              " 'who',\n",
              " 'toward',\n",
              " 'these',\n",
              " 'whole',\n",
              " 'therefore',\n",
              " 'moreover',\n",
              " 'others',\n",
              " 'never',\n",
              " '‘ve',\n",
              " 'seem',\n",
              " 'very',\n",
              " 'same',\n",
              " 'so',\n",
              " 'really',\n",
              " 'your',\n",
              " 'became',\n",
              " 'yourselves',\n",
              " 'we',\n",
              " 'besides',\n",
              " 'otherwise',\n",
              " 'then',\n",
              " 'using',\n",
              " 'you',\n",
              " 'every',\n",
              " '’m',\n",
              " 'nine',\n",
              " 'towards',\n",
              " 'twelve',\n",
              " 'anyone',\n",
              " 'they',\n",
              " 'ourselves',\n",
              " 'against',\n",
              " 'whereupon',\n",
              " 'less',\n",
              " 'sometime',\n",
              " 'full',\n",
              " 'whither',\n",
              " 'throughout',\n",
              " 'enough',\n",
              " 'before',\n",
              " 'call',\n",
              " 'ever',\n",
              " 'them',\n",
              " 'three',\n",
              " 'from',\n",
              " 'any',\n",
              " 'bottom',\n",
              " 'but',\n",
              " 'go',\n",
              " 'however',\n",
              " 'between',\n",
              " 'empty',\n",
              " 'thereupon',\n",
              " 'or',\n",
              " 'if',\n",
              " 'that',\n",
              " 'an',\n",
              " 'hereby',\n",
              " 'hers',\n",
              " 'further',\n",
              " 'wherein',\n",
              " 'did',\n",
              " 'she',\n",
              " 'neither',\n",
              " 'though',\n",
              " 'either',\n",
              " 'is',\n",
              " 'their',\n",
              " 'whereafter',\n",
              " 'perhaps',\n",
              " 'becomes',\n",
              " 'must',\n",
              " 'on',\n",
              " 'hereafter',\n",
              " 'him',\n",
              " 'down',\n",
              " 'about',\n",
              " 'how']"
            ]
          },
          "metadata": {},
          "execution_count": 43
        }
      ]
    },
    {
      "cell_type": "code",
      "source": [
        "nlp = spacy.load('en_core_web_sm')"
      ],
      "metadata": {
        "id": "1f6pGJFdXQRv"
      },
      "execution_count": 44,
      "outputs": []
    },
    {
      "cell_type": "code",
      "source": [
        "doc = nlp(text)"
      ],
      "metadata": {
        "id": "aca05cleXS5X"
      },
      "execution_count": 45,
      "outputs": []
    },
    {
      "cell_type": "code",
      "source": [
        "tokens = [token.text for token in doc]\n",
        "print(tokens)"
      ],
      "metadata": {
        "colab": {
          "base_uri": "https://localhost:8080/"
        },
        "id": "FhT5awXuXWx6",
        "outputId": "f7d6dea2-4026-4209-d481-3b85ca14035a"
      },
      "execution_count": 46,
      "outputs": [
        {
          "output_type": "stream",
          "name": "stdout",
          "text": [
            "['\\n', 'There', 'are', 'broadly', 'two', 'types', 'of', 'extractive', 'summarization', 'tasks', 'depending', 'on', 'what', 'the', 'summarization', 'program', 'focuses', 'on', '.', 'The', 'first', 'is', 'generic', 'summarization', ',', 'which', 'focuses', 'on', 'obtaining', 'a', 'generic', 'summary', 'or', 'abstract', 'of', 'the', 'collection', '(', 'whether', 'documents', ',', 'or', 'sets', 'of', 'images', ',', 'or', 'videos', ',', 'news', 'stories', 'etc', '.', ')', '.', 'The', 'second', 'is', 'query', 'relevant', 'summarization', ',', 'sometimes', 'called', 'query', '-', 'based', 'summarization', ',', 'which', 'summarizes', 'objects', 'specific', 'to', 'a', 'query', '.', 'Summarization', 'systems', 'are', 'able', 'to', 'create', 'both', 'query', 'relevant', 'text', 'summaries', 'and', 'generic', 'machine', '-', 'generated', 'summaries', 'depending', 'on', 'what', 'the', 'user', 'needs', '.', '\\n', 'An', 'example', 'of', 'a', 'summarization', 'problem', 'is', 'document', 'summarization', ',', 'which', 'attempts', 'to', 'automatically', 'produce', 'an', 'abstract', 'from', 'a', 'given', 'document', '.', 'Sometimes', 'one', 'might', 'be', 'interested', 'in', 'generating', 'a', 'summary', 'from', 'a', 'single', 'source', 'document', ',', 'while', 'others', 'can', 'use', 'multiple', 'source', 'documents', '(', 'for', 'example', ',', 'a', 'cluster', 'of', 'articles', 'on', 'the', 'same', 'topic', ')', '.', 'This', 'problem', 'is', 'called', 'multi', '-', 'document', 'summarization', '.', 'A', 'related', 'application', 'is', 'summarizing', 'news', 'articles', '.', 'Imagine', 'a', 'system', ',', 'which', 'automatically', 'pulls', 'together', 'news', 'articles', 'on', 'a', 'given', 'topic', '(', 'from', 'the', 'web', ')', ',', 'and', 'concisely', 'represents', 'the', 'latest', 'news', 'as', 'a', 'summary', '.', '\\n', 'Image', 'collection', 'summarization', 'is', 'another', 'application', 'example', 'of', 'automatic', 'summarization', '.', 'It', 'consists', 'in', 'selecting', 'a', 'representative', 'set', 'of', 'images', 'from', 'a', 'larger', 'set', 'of', 'images.[3', ']', 'A', 'summary', 'in', 'this', 'context', 'is', 'useful', 'to', 'show', 'the', 'most', 'representative', 'images', 'of', 'results', 'in', 'an', 'image', 'collection', 'exploration', 'system', '.', 'Video', 'summarization', 'is', 'a', 'related', 'domain', ',', 'where', 'the', 'system', 'automatically', 'creates', 'a', 'trailer', 'of', 'a', 'long', 'video', '.', 'This', 'also', 'has', 'applications', 'in', 'consumer', 'or', 'personal', 'videos', ',', 'where', 'one', 'might', 'want', 'to', 'skip', 'the', 'boring', 'or', 'repetitive', 'actions', '.', 'Similarly', ',', 'in', 'surveillance', 'videos', ',', 'one', 'would', 'want', 'to', 'extract', 'important', 'and', 'suspicious', 'activity', ',', 'while', 'ignoring', 'all', 'the', 'boring', 'and', 'redundant', 'frames', 'captured', '.', '\\n']\n"
          ]
        }
      ]
    },
    {
      "cell_type": "code",
      "source": [
        "punctuation = punctuation + '\\n'\n",
        "punctuation"
      ],
      "metadata": {
        "colab": {
          "base_uri": "https://localhost:8080/",
          "height": 35
        },
        "id": "iOvbUTweXo-u",
        "outputId": "7c77a999-a6fa-4c27-de39-f7c1b4943fb2"
      },
      "execution_count": 47,
      "outputs": [
        {
          "output_type": "execute_result",
          "data": {
            "text/plain": [
              "'!\"#$%&\\'()*+,-./:;<=>?@[\\\\]^_`{|}~\\n'"
            ],
            "application/vnd.google.colaboratory.intrinsic+json": {
              "type": "string"
            }
          },
          "metadata": {},
          "execution_count": 47
        }
      ]
    },
    {
      "cell_type": "code",
      "source": [
        "word_frequencies = {}\n",
        "for word in doc:\n",
        "    if word.text.lower() not in stopwords:\n",
        "        if word.text.lower() not in punctuation:\n",
        "            if word.text not in word_frequencies.keys():\n",
        "                word_frequencies[word.text] = 1\n",
        "            else:\n",
        "                word_frequencies[word.text] += 1\n",
        "\n",
        "print(word_frequencies)"
      ],
      "metadata": {
        "colab": {
          "base_uri": "https://localhost:8080/"
        },
        "id": "M5VvmVazXwQ5",
        "outputId": "5a89f9cb-7af6-4d95-d388-65a22519d786"
      },
      "execution_count": 48,
      "outputs": [
        {
          "output_type": "stream",
          "name": "stdout",
          "text": [
            "{'broadly': 1, 'types': 1, 'extractive': 1, 'summarization': 11, 'tasks': 1, 'depending': 2, 'program': 1, 'focuses': 2, 'generic': 3, 'obtaining': 1, 'summary': 4, 'abstract': 2, 'collection': 3, 'documents': 2, 'sets': 1, 'images': 3, 'videos': 3, 'news': 4, 'stories': 1, 'etc': 1, 'second': 1, 'query': 4, 'relevant': 2, 'called': 2, 'based': 1, 'summarizes': 1, 'objects': 1, 'specific': 1, 'Summarization': 1, 'systems': 1, 'able': 1, 'create': 1, 'text': 1, 'summaries': 2, 'machine': 1, 'generated': 1, 'user': 1, 'needs': 1, 'example': 3, 'problem': 2, 'document': 4, 'attempts': 1, 'automatically': 3, 'produce': 1, 'given': 2, 'interested': 1, 'generating': 1, 'single': 1, 'source': 2, 'use': 1, 'multiple': 1, 'cluster': 1, 'articles': 3, 'topic': 2, 'multi': 1, 'related': 2, 'application': 2, 'summarizing': 1, 'Imagine': 1, 'system': 3, 'pulls': 1, 'web': 1, 'concisely': 1, 'represents': 1, 'latest': 1, 'Image': 1, 'automatic': 1, 'consists': 1, 'selecting': 1, 'representative': 2, 'set': 2, 'larger': 1, 'images.[3': 1, 'context': 1, 'useful': 1, 'results': 1, 'image': 1, 'exploration': 1, 'Video': 1, 'domain': 1, 'creates': 1, 'trailer': 1, 'long': 1, 'video': 1, 'applications': 1, 'consumer': 1, 'personal': 1, 'want': 2, 'skip': 1, 'boring': 2, 'repetitive': 1, 'actions': 1, 'Similarly': 1, 'surveillance': 1, 'extract': 1, 'important': 1, 'suspicious': 1, 'activity': 1, 'ignoring': 1, 'redundant': 1, 'frames': 1, 'captured': 1}\n"
          ]
        }
      ]
    },
    {
      "cell_type": "code",
      "source": [
        "max_frequency = max(word_frequencies.values())\n",
        "max_frequency"
      ],
      "metadata": {
        "colab": {
          "base_uri": "https://localhost:8080/"
        },
        "id": "_YXuxiS1Zpnc",
        "outputId": "68116dc2-f2a3-4ed4-9402-3a3875303695"
      },
      "execution_count": 49,
      "outputs": [
        {
          "output_type": "execute_result",
          "data": {
            "text/plain": [
              "11"
            ]
          },
          "metadata": {},
          "execution_count": 49
        }
      ]
    },
    {
      "cell_type": "code",
      "source": [
        "for word in word_frequencies.keys():\n",
        "    word_frequencies[word] = word_frequencies[word]/max_frequency\n",
        "\n",
        "print(word_frequencies)"
      ],
      "metadata": {
        "colab": {
          "base_uri": "https://localhost:8080/"
        },
        "id": "nlbukZ64Zvc2",
        "outputId": "146c340d-db40-413d-e352-aeeeec000433"
      },
      "execution_count": 50,
      "outputs": [
        {
          "output_type": "stream",
          "name": "stdout",
          "text": [
            "{'broadly': 0.09090909090909091, 'types': 0.09090909090909091, 'extractive': 0.09090909090909091, 'summarization': 1.0, 'tasks': 0.09090909090909091, 'depending': 0.18181818181818182, 'program': 0.09090909090909091, 'focuses': 0.18181818181818182, 'generic': 0.2727272727272727, 'obtaining': 0.09090909090909091, 'summary': 0.36363636363636365, 'abstract': 0.18181818181818182, 'collection': 0.2727272727272727, 'documents': 0.18181818181818182, 'sets': 0.09090909090909091, 'images': 0.2727272727272727, 'videos': 0.2727272727272727, 'news': 0.36363636363636365, 'stories': 0.09090909090909091, 'etc': 0.09090909090909091, 'second': 0.09090909090909091, 'query': 0.36363636363636365, 'relevant': 0.18181818181818182, 'called': 0.18181818181818182, 'based': 0.09090909090909091, 'summarizes': 0.09090909090909091, 'objects': 0.09090909090909091, 'specific': 0.09090909090909091, 'Summarization': 0.09090909090909091, 'systems': 0.09090909090909091, 'able': 0.09090909090909091, 'create': 0.09090909090909091, 'text': 0.09090909090909091, 'summaries': 0.18181818181818182, 'machine': 0.09090909090909091, 'generated': 0.09090909090909091, 'user': 0.09090909090909091, 'needs': 0.09090909090909091, 'example': 0.2727272727272727, 'problem': 0.18181818181818182, 'document': 0.36363636363636365, 'attempts': 0.09090909090909091, 'automatically': 0.2727272727272727, 'produce': 0.09090909090909091, 'given': 0.18181818181818182, 'interested': 0.09090909090909091, 'generating': 0.09090909090909091, 'single': 0.09090909090909091, 'source': 0.18181818181818182, 'use': 0.09090909090909091, 'multiple': 0.09090909090909091, 'cluster': 0.09090909090909091, 'articles': 0.2727272727272727, 'topic': 0.18181818181818182, 'multi': 0.09090909090909091, 'related': 0.18181818181818182, 'application': 0.18181818181818182, 'summarizing': 0.09090909090909091, 'Imagine': 0.09090909090909091, 'system': 0.2727272727272727, 'pulls': 0.09090909090909091, 'web': 0.09090909090909091, 'concisely': 0.09090909090909091, 'represents': 0.09090909090909091, 'latest': 0.09090909090909091, 'Image': 0.09090909090909091, 'automatic': 0.09090909090909091, 'consists': 0.09090909090909091, 'selecting': 0.09090909090909091, 'representative': 0.18181818181818182, 'set': 0.18181818181818182, 'larger': 0.09090909090909091, 'images.[3': 0.09090909090909091, 'context': 0.09090909090909091, 'useful': 0.09090909090909091, 'results': 0.09090909090909091, 'image': 0.09090909090909091, 'exploration': 0.09090909090909091, 'Video': 0.09090909090909091, 'domain': 0.09090909090909091, 'creates': 0.09090909090909091, 'trailer': 0.09090909090909091, 'long': 0.09090909090909091, 'video': 0.09090909090909091, 'applications': 0.09090909090909091, 'consumer': 0.09090909090909091, 'personal': 0.09090909090909091, 'want': 0.18181818181818182, 'skip': 0.09090909090909091, 'boring': 0.18181818181818182, 'repetitive': 0.09090909090909091, 'actions': 0.09090909090909091, 'Similarly': 0.09090909090909091, 'surveillance': 0.09090909090909091, 'extract': 0.09090909090909091, 'important': 0.09090909090909091, 'suspicious': 0.09090909090909091, 'activity': 0.09090909090909091, 'ignoring': 0.09090909090909091, 'redundant': 0.09090909090909091, 'frames': 0.09090909090909091, 'captured': 0.09090909090909091}\n"
          ]
        }
      ]
    },
    {
      "cell_type": "code",
      "source": [
        "sentence_tokens = [sent for sent in doc.sents]\n",
        "print(sentence_tokens)"
      ],
      "metadata": {
        "colab": {
          "base_uri": "https://localhost:8080/"
        },
        "id": "-I0UNENkZzF1",
        "outputId": "283abf4c-8bfa-4336-92fa-15174b74c444"
      },
      "execution_count": 51,
      "outputs": [
        {
          "output_type": "stream",
          "name": "stdout",
          "text": [
            "[\n",
            "There are broadly two types of extractive summarization tasks depending on what the summarization program focuses on., The first is generic summarization, which focuses on obtaining a generic summary or abstract of the collection (whether documents, or sets of images, or videos, news stories etc.)., The second is query relevant summarization, sometimes called query-based summarization, which summarizes objects specific to a query., Summarization systems are able to create both query relevant text summaries and generic machine-generated summaries depending on what the user needs.\n",
            ", An example of a summarization problem is document summarization, which attempts to automatically produce an abstract from a given document., Sometimes one might be interested in generating a summary from a single source document, while others can use multiple source documents (for example, a cluster of articles on the same topic)., This problem is called multi-document summarization., A related application is summarizing news articles., Imagine a system, which automatically pulls together news articles on a given topic (from the web), and concisely represents the latest news as a summary.\n",
            ", Image collection summarization is another application example of automatic summarization., It consists in selecting a representative set of images from a larger set of images.[3] A summary in this context is useful to show the most representative images of results in an image collection exploration system., Video summarization is a related domain, where the system automatically creates a trailer of a long video., This also has applications in consumer or personal videos, where one might want to skip the boring or repetitive actions., Similarly, in surveillance videos, one would want to extract important and suspicious activity, while ignoring all the boring and redundant frames captured.\n",
            "]\n"
          ]
        }
      ]
    },
    {
      "cell_type": "code",
      "source": [
        "sentence_scores = {}\n",
        "for sent in sentence_tokens:\n",
        "    for word in sent:\n",
        "        if word.text.lower() in word_frequencies.keys():\n",
        "            if sent not in sentence_scores.keys():\n",
        "                sentence_scores[sent] = word_frequencies[word.text.lower()]\n",
        "            else:\n",
        "                sentence_scores[sent] += word_frequencies[word.text.lower()]\n",
        "\n",
        "sentence_scores"
      ],
      "metadata": {
        "colab": {
          "base_uri": "https://localhost:8080/"
        },
        "id": "fN43EBajZ91R",
        "outputId": "b06917df-399f-4d5f-9795-9bbda8e23cac"
      },
      "execution_count": 52,
      "outputs": [
        {
          "output_type": "execute_result",
          "data": {
            "text/plain": [
              "{\n",
              " There are broadly two types of extractive summarization tasks depending on what the summarization program focuses on.: 2.818181818181818,\n",
              " The first is generic summarization, which focuses on obtaining a generic summary or abstract of the collection (whether documents, or sets of images, or videos, news stories etc.).: 3.9999999999999987,\n",
              " The second is query relevant summarization, sometimes called query-based summarization, which summarizes objects specific to a query.: 3.909090909090909,\n",
              " Summarization systems are able to create both query relevant text summaries and generic machine-generated summaries depending on what the user needs.: 3.09090909090909,\n",
              " An example of a summarization problem is document summarization, which attempts to automatically produce an abstract from a given document.: 3.9999999999999996,\n",
              " Sometimes one might be interested in generating a summary from a single source document, while others can use multiple source documents (for example, a cluster of articles on the same topic).: 2.545454545454545,\n",
              " This problem is called multi-document summarization.: 1.8181818181818183,\n",
              " A related application is summarizing news articles.: 1.0909090909090908,\n",
              " Imagine a system, which automatically pulls together news articles on a given topic (from the web), and concisely represents the latest news as a summary.: 2.727272727272727,\n",
              " Image collection summarization is another application example of automatic summarization.: 2.909090909090909,\n",
              " It consists in selecting a representative set of images from a larger set of images.[3] A summary in this context is useful to show the most representative images of results in an image collection exploration system.: 2.999999999999999,\n",
              " Video summarization is a related domain, where the system automatically creates a trailer of a long video.: 2.2727272727272725,\n",
              " This also has applications in consumer or personal videos, where one might want to skip the boring or repetitive actions.: 1.1818181818181817,\n",
              " Similarly, in surveillance videos, one would want to extract important and suspicious activity, while ignoring all the boring and redundant frames captured.: 1.4545454545454544}"
            ]
          },
          "metadata": {},
          "execution_count": 52
        }
      ]
    },
    {
      "cell_type": "code",
      "source": [
        "from heapq import nlargest"
      ],
      "metadata": {
        "id": "hrz01jVvblkl"
      },
      "execution_count": 53,
      "outputs": []
    },
    {
      "cell_type": "code",
      "source": [
        "select_length = int(len(sentence_tokens)*0.3)\n",
        "select_length"
      ],
      "metadata": {
        "colab": {
          "base_uri": "https://localhost:8080/"
        },
        "id": "Cx4o88R4bvbP",
        "outputId": "387faf73-f9c5-450c-f88a-e6d5ea21e2d4"
      },
      "execution_count": 54,
      "outputs": [
        {
          "output_type": "execute_result",
          "data": {
            "text/plain": [
              "4"
            ]
          },
          "metadata": {},
          "execution_count": 54
        }
      ]
    },
    {
      "cell_type": "code",
      "source": [
        "summary = nlargest(select_length, sentence_scores, key = sentence_scores.get)\n",
        "summary"
      ],
      "metadata": {
        "colab": {
          "base_uri": "https://localhost:8080/"
        },
        "id": "yl3JFUY8b9_Q",
        "outputId": "adba3c06-555d-480c-c05a-f905d80374ef"
      },
      "execution_count": 55,
      "outputs": [
        {
          "output_type": "execute_result",
          "data": {
            "text/plain": [
              "[An example of a summarization problem is document summarization, which attempts to automatically produce an abstract from a given document.,\n",
              " The first is generic summarization, which focuses on obtaining a generic summary or abstract of the collection (whether documents, or sets of images, or videos, news stories etc.).,\n",
              " The second is query relevant summarization, sometimes called query-based summarization, which summarizes objects specific to a query.,\n",
              " Summarization systems are able to create both query relevant text summaries and generic machine-generated summaries depending on what the user needs.]"
            ]
          },
          "metadata": {},
          "execution_count": 55
        }
      ]
    },
    {
      "cell_type": "code",
      "source": [
        "final_summary = [word.text for word in summary]\n",
        "summary = ' '.join(final_summary)"
      ],
      "metadata": {
        "id": "xPKnirEvcWwh"
      },
      "execution_count": 56,
      "outputs": []
    },
    {
      "cell_type": "code",
      "source": [
        "print(summary)"
      ],
      "metadata": {
        "colab": {
          "base_uri": "https://localhost:8080/"
        },
        "id": "lfrLj6vKcbSR",
        "outputId": "73597f82-9fe9-4044-b176-9af94ee52ff1"
      },
      "execution_count": 57,
      "outputs": [
        {
          "output_type": "stream",
          "name": "stdout",
          "text": [
            "An example of a summarization problem is document summarization, which attempts to automatically produce an abstract from a given document. The first is generic summarization, which focuses on obtaining a generic summary or abstract of the collection (whether documents, or sets of images, or videos, news stories etc.). The second is query relevant summarization, sometimes called query-based summarization, which summarizes objects specific to a query. Summarization systems are able to create both query relevant text summaries and generic machine-generated summaries depending on what the user needs.\n",
            "\n"
          ]
        }
      ]
    }
  ]
}